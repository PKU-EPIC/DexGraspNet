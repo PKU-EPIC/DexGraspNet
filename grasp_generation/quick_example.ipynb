{
 "cells": [
  {
   "cell_type": "code",
   "execution_count": null,
   "metadata": {},
   "outputs": [],
   "source": [
    "import os\n",
    "import random\n",
    "from utils.hand_model import HandModel\n",
    "import numpy as np\n",
    "import transforms3d\n",
    "import torch\n",
    "import trimesh\n",
    "from utils.hand_model_type import handmodeltype_to_joint_names, HandModelType\n",
    "from utils.qpos_pose_conversion import qpos_to_pose"
   ]
  },
  {
   "cell_type": "code",
   "execution_count": null,
   "metadata": {},
   "outputs": [],
   "source": [
    "# PARAMS\n",
    "mesh_path = \"../data/meshdata\"\n",
    "data_path = \"../data/dataset\"\n",
    "hand_model_type = HandModelType.SHADOW_HAND"
   ]
  },
  {
   "cell_type": "code",
   "execution_count": null,
   "metadata": {},
   "outputs": [],
   "source": [
    "joint_names = handmodeltype_to_joint_names[hand_model_type]\n",
    "hand_model = HandModel(hand_model_type)"
   ]
  },
  {
   "cell_type": "code",
   "execution_count": null,
   "metadata": {},
   "outputs": [],
   "source": [
    "grasp_code_list = []\n",
    "for filename in os.listdir(data_path):\n",
    "    code = filename.split('.')[0]\n",
    "    grasp_code_list.append(code)"
   ]
  },
  {
   "cell_type": "code",
   "execution_count": null,
   "metadata": {},
   "outputs": [],
   "source": [
    "grasp_code = random.choice(grasp_code_list)\n",
    "grasp_data = np.load(\n",
    "    os.path.join(data_path, grasp_code+\".npy\"), allow_pickle=True)\n",
    "object_mesh_origin = trimesh.load(os.path.join(\n",
    "    mesh_path, grasp_code, \"coacd/decomposed.obj\"))\n",
    "print(f\"Randomly sampled grasp_code = {grasp_code}\")"
   ]
  },
  {
   "cell_type": "code",
   "execution_count": null,
   "metadata": {},
   "outputs": [],
   "source": [
    "index = random.randint(0, len(grasp_data) - 1)\n",
    "\n",
    "qpos = grasp_data[index]['qpos']\n",
    "hand_pose = qpos_to_pose(qpos=qpos, joint_names=joint_names, unsqueeze_batch_dim=True).to('cpu')\n",
    "hand_model.set_parameters(hand_pose)\n",
    "hand_mesh = hand_model.get_trimesh_data(0)\n",
    "object_mesh = object_mesh_origin.copy().apply_scale(grasp_data[index][\"scale\"])\n",
    "print(f\"Randomly sampled index = {index}\")"
   ]
  },
  {
   "cell_type": "code",
   "execution_count": null,
   "metadata": {},
   "outputs": [],
   "source": [
    "(hand_mesh+object_mesh).show()"
   ]
  }
 ],
 "metadata": {
  "kernelspec": {
   "display_name": "Python 3 (ipykernel)",
   "language": "python",
   "name": "python3"
  },
  "language_info": {
   "codemirror_mode": {
    "name": "ipython",
    "version": 3
   },
   "file_extension": ".py",
   "mimetype": "text/x-python",
   "name": "python",
   "nbconvert_exporter": "python",
   "pygments_lexer": "ipython3",
   "version": "3.8.16"
  },
  "vscode": {
   "interpreter": {
    "hash": "2d4291a8a48b28165ac7232d5c96e1282ed596e61d078e48e9495becf16bfc7d"
   }
  }
 },
 "nbformat": 4,
 "nbformat_minor": 4
}
