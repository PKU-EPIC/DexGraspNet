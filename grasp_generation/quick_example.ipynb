{
 "cells": [
  {
   "cell_type": "code",
   "execution_count": null,
   "metadata": {
    "lines_to_next_cell": 2
   },
   "outputs": [],
   "source": [
    "import os\n",
    "import random\n",
    "from utils.hand_model import HandModel\n",
    "from utils.object_model import ObjectModel\n",
    "import numpy as np\n",
    "import transforms3d\n",
    "import torch\n",
    "import trimesh\n",
    "from utils.hand_model_type import handmodeltype_to_joint_names, HandModelType\n",
    "from utils.qpos_pose_conversion import qpos_to_pose\n",
    "from utils.seed import set_seed"
   ]
  },
  {
   "cell_type": "code",
   "execution_count": null,
   "metadata": {},
   "outputs": [],
   "source": [
    "set_seed(42)"
   ]
  },
  {
   "cell_type": "code",
   "execution_count": null,
   "metadata": {},
   "outputs": [],
   "source": [
    "# PARAMS\n",
    "mesh_path = \"../data/meshdata\"\n",
    "data_path = \"../data/graspdata_2023-05-24_allegro_distalonly/\"\n",
    "hand_model_type = HandModelType.ALLEGRO_HAND\n",
    "device = torch.device(\"cuda\" if torch.cuda.is_available() else \"cpu\")"
   ]
  },
  {
   "cell_type": "code",
   "execution_count": null,
   "metadata": {},
   "outputs": [],
   "source": [
    "# Grasp codes\n",
    "grasp_code_list = []\n",
    "for filename in os.listdir(data_path):\n",
    "    code = filename.split(\".\")[0]\n",
    "    grasp_code_list.append(code)"
   ]
  },
  {
   "cell_type": "code",
   "execution_count": null,
   "metadata": {},
   "outputs": [],
   "source": [
    "# Sample and read in data\n",
    "grasp_code = random.choice(grasp_code_list)\n",
    "grasp_data = np.load(os.path.join(data_path, grasp_code + \".npy\"), allow_pickle=True)\n",
    "print(f\"Randomly sampled grasp_code = {grasp_code}\")\n",
    "\n",
    "index = random.randint(0, len(grasp_data) - 1)\n",
    "qpos = grasp_data[index][\"qpos\"]\n",
    "scale = grasp_data[index][\"scale\"]\n",
    "print(f\"Randomly sampled index = {index}\")\n",
    "print(f\"scale = {scale}\")"
   ]
  },
  {
   "cell_type": "code",
   "execution_count": null,
   "metadata": {},
   "outputs": [],
   "source": [
    "# Object model\n",
    "object_model = ObjectModel(\n",
    "    data_root_path=mesh_path,\n",
    "    batch_size_each=1,\n",
    "    device=device,\n",
    ")\n",
    "object_model.initialize([grasp_code])\n",
    "object_model.object_scale_tensor = torch.tensor(\n",
    "    scale, dtype=torch.float, device=device\n",
    ").reshape(object_model.object_scale_tensor.shape)"
   ]
  },
  {
   "cell_type": "code",
   "execution_count": null,
   "metadata": {},
   "outputs": [],
   "source": [
    "# Hand model\n",
    "joint_names = handmodeltype_to_joint_names[hand_model_type]\n",
    "hand_model = HandModel(hand_model_type, device=device)\n",
    "\n",
    "hand_pose = qpos_to_pose(\n",
    "    qpos=qpos, joint_names=joint_names, unsqueeze_batch_dim=True\n",
    ").to(device)\n",
    "hand_model.set_parameters(hand_pose)\n",
    "\n",
    "batch_idx = 0\n",
    "hand_mesh = hand_model.get_trimesh_data(batch_idx)\n",
    "object_mesh = object_model.object_mesh_list[batch_idx].copy().apply_scale(scale)"
   ]
  },
  {
   "cell_type": "code",
   "execution_count": null,
   "metadata": {},
   "outputs": [],
   "source": [
    "(hand_mesh + object_mesh).show()"
   ]
  },
  {
   "cell_type": "code",
   "execution_count": null,
   "metadata": {},
   "outputs": [],
   "source": [
    "from plotly.subplots import make_subplots\n",
    "import plotly.graph_objects as go"
   ]
  },
  {
   "cell_type": "code",
   "execution_count": null,
   "metadata": {},
   "outputs": [],
   "source": [
    "# Plotly fig\n",
    "fig_title = f\"Grasp Code: {grasp_code}, Index: {index}\"\n",
    "idx_to_visualize = batch_idx\n",
    "\n",
    "fig = go.Figure(\n",
    "    layout=go.Layout(\n",
    "        scene=dict(\n",
    "            xaxis=dict(title=\"X\"),\n",
    "            yaxis=dict(title=\"Y\"),\n",
    "            zaxis=dict(title=\"Z\"),\n",
    "            aspectmode=\"data\",\n",
    "        ),\n",
    "        showlegend=True,\n",
    "        title=fig_title,\n",
    "        autosize=False,\n",
    "        width=800,\n",
    "        height=800,\n",
    "    )\n",
    ")\n",
    "plots = [\n",
    "    *hand_model.get_plotly_data(\n",
    "        i=idx_to_visualize, opacity=1.0, with_contact_candidates=True\n",
    "    ),\n",
    "    *object_model.get_plotly_data(i=idx_to_visualize, opacity=0.5),\n",
    "]\n",
    "for plot in plots:\n",
    "    fig.add_trace(plot)\n",
    "fig.show()"
   ]
  },
  {
   "cell_type": "code",
   "execution_count": null,
   "metadata": {},
   "outputs": [],
   "source": [
    "original_hand_pose = hand_model.hand_pose.detach().clone()\n",
    "print(f\"original_hand_pose[:, 9:] = {original_hand_pose[:, 9:]}\")\n",
    "joint_angle_targets_to_optimize = (\n",
    "    original_hand_pose[:, 9:].detach().clone().requires_grad_(True)\n",
    ")"
   ]
  },
  {
   "cell_type": "code",
   "execution_count": null,
   "metadata": {},
   "outputs": [],
   "source": [
    "from utils.joint_angle_targets import OptimizationMethod, compute_joint_angle_targets\n",
    "\n",
    "optimization_method = OptimizationMethod.DESIRED_DIST_MOVE_TOWARDS_CENTER_ONE_STEP\n",
    "\n",
    "joint_angle_targets_to_optimize, losses, debug_infos = compute_joint_angle_targets(\n",
    "    optimization_method=optimization_method,\n",
    "    joint_angle_targets_to_optimize=joint_angle_targets_to_optimize,\n",
    "    hand_model=hand_model,\n",
    "    object_model=object_model,\n",
    "    device=device,\n",
    ")\n",
    "old_debug_info = debug_infos[0]\n",
    "debug_info = debug_infos[-1]"
   ]
  },
  {
   "cell_type": "code",
   "execution_count": null,
   "metadata": {},
   "outputs": [],
   "source": [
    "import plotly.express as px\n",
    "\n",
    "px.line(y=losses)"
   ]
  },
  {
   "cell_type": "code",
   "execution_count": null,
   "metadata": {
    "lines_to_next_cell": 2
   },
   "outputs": [],
   "source": [
    "print(f\"joint_angle_targets_to_optimize = {joint_angle_targets_to_optimize}\")"
   ]
  },
  {
   "cell_type": "code",
   "execution_count": null,
   "metadata": {},
   "outputs": [],
   "source": [
    "# Plotly fig\n",
    "hand_model.set_parameters(original_hand_pose)\n",
    "old_hand_model_plotly = hand_model.get_plotly_data(\n",
    "    i=idx_to_visualize, opacity=1.0, with_contact_candidates=True\n",
    ")\n",
    "\n",
    "fig = make_subplots(\n",
    "    rows=1,\n",
    "    cols=2,\n",
    "    specs=[[{\"type\": \"scene\"}, {\"type\": \"scene\"}]],\n",
    "    subplot_titles=(\"Original\", \"Optimized\"),\n",
    ")\n",
    "old_target_points = old_debug_info[\"target_points\"]\n",
    "old_contact_points_hand = old_debug_info[\"contact_points_hand\"]\n",
    "\n",
    "plots = [\n",
    "    *old_hand_model_plotly,\n",
    "    *object_model.get_plotly_data(i=idx_to_visualize, opacity=0.5),\n",
    "    go.Scatter3d(\n",
    "        x=old_target_points[batch_idx, :, 0].detach().cpu().numpy(),\n",
    "        y=old_target_points[batch_idx, :, 1].detach().cpu().numpy(),\n",
    "        z=old_target_points[batch_idx, :, 2].detach().cpu().numpy(),\n",
    "        mode=\"markers\",\n",
    "        marker=dict(size=10, color=\"red\"),\n",
    "        name=\"target_points\",\n",
    "    ),\n",
    "    go.Scatter3d(\n",
    "        x=old_contact_points_hand[batch_idx, :, 0].detach().cpu().numpy(),\n",
    "        y=old_contact_points_hand[batch_idx, :, 1].detach().cpu().numpy(),\n",
    "        z=old_contact_points_hand[batch_idx, :, 2].detach().cpu().numpy(),\n",
    "        mode=\"markers\",\n",
    "        marker=dict(size=10, color=\"green\"),\n",
    "        name=\"contact_points_hand\",\n",
    "    ),\n",
    "]\n",
    "\n",
    "for plot in plots:\n",
    "    fig.append_trace(plot, row=1, col=1)"
   ]
  },
  {
   "cell_type": "code",
   "execution_count": null,
   "metadata": {
    "lines_to_next_cell": 2
   },
   "outputs": [],
   "source": [
    "\n",
    "new_hand_pose = original_hand_pose.detach().clone()\n",
    "new_hand_pose[:, 9:] = joint_angle_targets_to_optimize\n",
    "hand_model.set_parameters(new_hand_pose)\n",
    "new_hand_model_plotly = hand_model.get_plotly_data(\n",
    "    i=idx_to_visualize, opacity=1.0, with_contact_candidates=True\n",
    ")\n",
    "\n",
    "new_target_points = debug_info[\"target_points\"]\n",
    "new_contact_points_hand = debug_info[\"contact_points_hand\"]\n",
    "\n",
    "plots = [\n",
    "    *new_hand_model_plotly,\n",
    "    *object_model.get_plotly_data(i=idx_to_visualize, opacity=0.5),\n",
    "    go.Scatter3d(\n",
    "        x=new_target_points[batch_idx, :, 0].detach().cpu().numpy(),\n",
    "        y=new_target_points[batch_idx, :, 1].detach().cpu().numpy(),\n",
    "        z=new_target_points[batch_idx, :, 2].detach().cpu().numpy(),\n",
    "        mode=\"markers\",\n",
    "        marker=dict(size=10, color=\"red\"),\n",
    "        name=\"new_target_points\",\n",
    "    ),\n",
    "    go.Scatter3d(\n",
    "        x=new_contact_points_hand[batch_idx, :, 0].detach().cpu().numpy(),\n",
    "        y=new_contact_points_hand[batch_idx, :, 1].detach().cpu().numpy(),\n",
    "        z=new_contact_points_hand[batch_idx, :, 2].detach().cpu().numpy(),\n",
    "        mode=\"markers\",\n",
    "        marker=dict(size=10, color=\"green\"),\n",
    "        name=\"contact_points_hand\",\n",
    "    ),\n",
    "]\n",
    "\n",
    "for plot in plots:\n",
    "    fig.append_trace(plot, row=1, col=2)\n",
    "\n",
    "fig.update_layout(\n",
    "    autosize=False,\n",
    "    width=1600,\n",
    "    height=800,\n",
    "    title_text=f\"Optimization Method: {optimization_method.name}\",\n",
    "    # scene1=dict(title=\"Original\"),\n",
    "    # scene2=dict(title=\"Optimized\"),\n",
    ")\n",
    "fig.show()"
   ]
  },
  {
   "cell_type": "code",
   "execution_count": null,
   "metadata": {},
   "outputs": [],
   "source": []
  }
 ],
 "metadata": {
  "jupytext": {
   "formats": "ipynb,py:percent"
  },
  "kernelspec": {
   "display_name": "Python 3 (ipykernel)",
   "language": "python",
   "name": "python3"
  },
  "language_info": {
   "codemirror_mode": {
    "name": "ipython",
    "version": 3
   },
   "file_extension": ".py",
   "mimetype": "text/x-python",
   "name": "python",
   "nbconvert_exporter": "python",
   "pygments_lexer": "ipython3",
   "version": "3.8.16"
  },
  "vscode": {
   "interpreter": {
    "hash": "2d4291a8a48b28165ac7232d5c96e1282ed596e61d078e48e9495becf16bfc7d"
   }
  }
 },
 "nbformat": 4,
 "nbformat_minor": 4
}
